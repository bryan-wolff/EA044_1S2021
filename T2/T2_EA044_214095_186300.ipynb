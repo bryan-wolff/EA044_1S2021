{
  "nbformat": 4,
  "nbformat_minor": 0,
  "metadata": {
    "colab": {
      "name": "T2_EA044_214095_186300.ipynb",
      "provenance": [],
      "collapsed_sections": [
        "ZCC29Wyy_ZkK",
        "yunyAgq8YWXF",
        "lstjIbJyYiAl",
        "kSVg3bhnYuOD",
        "L6ctlk_MjmAI",
        "pI7W0cNL9xay",
        "h847RqcY9zx8"
      ]
    },
    "kernelspec": {
      "name": "python3",
      "display_name": "Python 3"
    },
    "language_info": {
      "name": "python"
    }
  },
  "cells": [
    {
      "cell_type": "markdown",
      "metadata": {
        "id": "ElTeM5wcADGO"
      },
      "source": [
        "# **EA044A – PLANEJAMENTO E ANÁLISE DE SISTEMAS DE PRODUÇÃO**\n",
        "## Projeto T2 - Planejamento Multiperíodo de Produção\n",
        "\n",
        "###Bryan Wolff  RA: 214095\n",
        "###Raphael Cury Spiller  RA: 186300\n",
        "\n"
      ]
    },
    {
      "cell_type": "markdown",
      "metadata": {
        "id": "WBTzxfUp_Kfl"
      },
      "source": [
        "#**Implementação do Solver**"
      ]
    },
    {
      "cell_type": "markdown",
      "metadata": {
        "id": "ZCC29Wyy_ZkK"
      },
      "source": [
        "##**Função Objetivo**\n"
      ]
    },
    {
      "cell_type": "markdown",
      "metadata": {
        "id": "laaoLzVzCazZ"
      },
      "source": [
        "**Variáveis de decisão**\n",
        "\n",
        "Wn,t : número de pneus com nylon a ser produzido na prensa Wheel no mês t\n",
        "\n",
        "Ln,t : número de pneus com nylon a ser produzido na prensa Legal no mês t\n",
        "\n",
        "Wf,t : número de pneus com fibra a ser produzido na prensa Wheel no mês t\n",
        "\n",
        "Lf,t : número de pneus com fibra a ser produzido na prensa Legal no mês t\n",
        "\n",
        "En,t : número de pneus com nylon a ser estocado no fim do mês t\n",
        "\n",
        "Ef,t : número de pneus com fibra a ser estocado no fim do mês t"
      ]
    },
    {
      "cell_type": "markdown",
      "metadata": {
        "id": "QnPdr2H_CeeT"
      },
      "source": [
        "Sabendo que toda a produção é convertida, ou seja, a receita não varia, para chegarmos na função objetivo basta equacionar os custos para que ele possa ser minimizado e assim maximizar o lucro.\n",
        "\n",
        "Ao observar as fontes de custo, 3 fontes são encontradas:\n",
        "\n",
        "*   custo de armazenamento ($\\$$0.1 por unid.)\n",
        "\n",
        "*   custo do material + acabmento,embalagem e transporte ($\\$$3.33-nylon $\\$$4.13-fibra por unid.)\n",
        "\n",
        "* custo de produção por hora($\\$$5 por hora)  \n",
        "\n",
        "Contudo, como sabemos a quantidade exata que será produzida em 3 meses,  o custo de material, acabamento, etc, é fixo. \n",
        "\n",
        "Diante disso, a função objetivo é dada por:\n",
        "\n",
        "$(5\\cdot0.15) Wn,t + (5\\cdot0.12)Wf,t +(5\\cdot0.16) Ln,t + (5\\cdot0.14) Lf,t + 0.1(Ef,t + En,t)$\n",
        "\n",
        "em função da quantidade de unidade produzidas por periodo e do estoque por periodo.\n",
        "Portanto o custo total nos 3 meses será de:\n",
        "\n",
        "\n",
        "$\\sum_{t=1}^{3}(0.75) Wn,t + (0.6)Wf,t +(0.8) Ln,t + (0.7) Lf,t + 0.1(Ef,t + En,t)^*$\n",
        "\n",
        "*Os estoques em t=3 devem ser iguais a zero.\n",
        "\n"
      ]
    },
    {
      "cell_type": "markdown",
      "metadata": {
        "id": "g-GHunIm_Z46"
      },
      "source": [
        "##**Restrições**"
      ]
    },
    {
      "cell_type": "markdown",
      "metadata": {
        "id": "rt2yqv0x_tkS"
      },
      "source": [
        "Em relação ao tempo de produção temos que:\n",
        "\n",
        "período 1\n",
        "\n",
        "$0.15Wn,1+0.12Wf,1 \\leq  700;$\n",
        "\n",
        "$0,16Ln,1+0,14Lf,1 \\leq 1500;$\n",
        "\n",
        "período 2\n",
        "\n",
        "$0,15Wn,2+0,12Wf,2 \\leq 300;$\n",
        "\n",
        "$0,16Ln,2+0,14Lf,2 \\leq 400;$\n",
        "\n",
        "período 3\n",
        "\n",
        "$0,15Wn,3+0,12Wf,3 \\leq 1000;$\n",
        "\n",
        "$0,16Ln,3+0,14Lf,3 \\leq 300;$\n",
        "\n"
      ]
    },
    {
      "cell_type": "markdown",
      "metadata": {
        "id": "gnP_76EUALt3"
      },
      "source": [
        "Em relação à produção excedente estocada:\n",
        "\n",
        "$En,1 = (Wn,1+Ln,1)-4000;  (Wn,1+Ln,1)$  não pode ser menor que 4000 \n",
        "$Ef,1 = (Wf,1+Lf,1)-1000; (Wf,1+Lf,1)$  não pode ser menor que 1000 \n",
        "\n",
        "$En,2 = (Wn,2+Ln,2+En,1)-8000; $\n",
        "$Ef,2 = (Wf,2+Lf,2+Ef,1)-5000;$ \n",
        "\n",
        "sem estoques finais logo, $En,3=Ef,3=0$;\n",
        "\n",
        "$(Wn,3+Ln,3+En,2)=3000; $\n",
        "$(Wf,3+Lf,3+Ef,2)=5000; $"
      ]
    },
    {
      "cell_type": "markdown",
      "metadata": {
        "id": "2sFr6Ezx_aVq"
      },
      "source": [
        "##**Solver**\n",
        "Utilizaremos o solver Or-Tools"
      ]
    },
    {
      "cell_type": "markdown",
      "metadata": {
        "id": "yunyAgq8YWXF"
      },
      "source": [
        "###Dependencias"
      ]
    },
    {
      "cell_type": "code",
      "metadata": {
        "id": "govdmFaBJrEP"
      },
      "source": [
        "!pip install --user --upgrade pip setuptools wheel six ortools"
      ],
      "execution_count": null,
      "outputs": []
    },
    {
      "cell_type": "code",
      "metadata": {
        "id": "JKJfksWWiDq-"
      },
      "source": [
        "from __future__ import print_function\n",
        "from ortools.linear_solver import pywraplp\n",
        "\n",
        "solver = pywraplp.Solver.CreateSolver('SCIP')"
      ],
      "execution_count": null,
      "outputs": []
    },
    {
      "cell_type": "markdown",
      "metadata": {
        "id": "lstjIbJyYiAl"
      },
      "source": [
        "### Declarando Variáveis Utilizadas"
      ]
    },
    {
      "cell_type": "code",
      "metadata": {
        "id": "PyJejlsbJ17j"
      },
      "source": [
        "#prensa Wheel\n",
        "Wn, Wf = [0,0,0], [0,0,0]\n",
        "\n",
        "#prensa Legal\n",
        "Ln, Lf = [0,0,0], [0,0,0]\n",
        "\n",
        "#Estoque\n",
        "En, Ef = [0,0],[0,0]\n",
        "\n",
        "#vamos declarar as variaveis a partir do atributo IntVar (Queremos números inteiros positivos)\n",
        "\n",
        "#WNT : número de pneus com nylon a ser produzido na prensa Wheel no mês T\n",
        "Wn[0] = solver.IntVar(0, solver.Infinity(), 'WN1')\n",
        "Wn[1] = solver.IntVar(0, solver.Infinity(), 'WN2')\n",
        "Wn[2] = solver.IntVar(0, solver.Infinity(), 'WN3')\n",
        "\n",
        "#WFT : número de pneus com fibra a ser produzido na prensa Wheel no mês T\n",
        "Wf[0] = solver.IntVar(0, solver.Infinity(), 'WF1')\n",
        "Wf[1] = solver.IntVar(0, solver.Infinity(), 'WF2')\n",
        "Wf[2] = solver.IntVar(0, solver.Infinity(), 'WF3')\n",
        "\n",
        "#LNT : número de pneus com nylon a ser produzido na prensa Legal no mês T\n",
        "Ln[0] = solver.IntVar(0, solver.Infinity(), 'LN1')\n",
        "Ln[1] = solver.IntVar(0, solver.Infinity(), 'LN2')\n",
        "Ln[2] = solver.IntVar(0, solver.Infinity(), 'LN3')\n",
        "\n",
        "#LFT : número de pneus com fibra a ser produzido na prensa Legal no mês T\n",
        "Lf[0] = solver.IntVar(0, solver.Infinity(), 'LF1')\n",
        "Lf[1] = solver.IntVar(0, solver.Infinity(), 'LF2')\n",
        "Lf[2] = solver.IntVar(0, solver.Infinity(), 'LF3')\n",
        "\n",
        "#ENT : número de pneus com nylon a ser estocado no fim do mês T\n",
        "En[0] = solver.IntVar(0, solver.Infinity(), 'EN1')\n",
        "En[1] = solver.IntVar(0, solver.Infinity(), 'EN2')\n",
        "\n",
        "#EFT : número de pneus com fibra a ser estocado no fim do mês T\n",
        "Ef[0] = solver.IntVar(0, solver.Infinity(), 'EF1')\n",
        "Ef[1] = solver.IntVar(0, solver.Infinity(), 'EF2')"
      ],
      "execution_count": null,
      "outputs": []
    },
    {
      "cell_type": "markdown",
      "metadata": {
        "id": "kSVg3bhnYuOD"
      },
      "source": [
        "### Restrições"
      ]
    },
    {
      "cell_type": "code",
      "metadata": {
        "id": "OYIwMHB8Yzhs"
      },
      "source": [
        "#Horas (CAPACIDADE) --------------\n",
        "\n",
        "#0.15WN1+ 0.12WF1≤ 700\n",
        "ct1 = solver.Constraint(0,700,'ct1')\n",
        "ct1.SetCoefficient(Wn[0],0.15)\n",
        "ct1.SetCoefficient(Wf[0],0.12)\n",
        "\n",
        "#0.15WN2 + 0.12WG2 ≤ 300\n",
        "ct2 = solver.Constraint(0,300,'ct2')\n",
        "ct2.SetCoefficient(Wn[1],0.15)\n",
        "ct2.SetCoefficient(Wf[1],0.12)\n",
        "\n",
        "#0.15WN3 + 0.12WF3 ≤ 1000\n",
        "ct3 = solver.Constraint(0,1000,'ct3')\n",
        "#ct3 = solver.Constraint(0,1172,'ct3') #questao 4\n",
        "ct3.SetCoefficient(Wn[2],0.15)\n",
        "ct3.SetCoefficient(Wf[2],0.12)\n",
        "\n",
        "#0.16LN1 + 0.14LF1 ≤ 1500\n",
        "ct4 = solver.Constraint(0,1500,'ct4')\n",
        "ct4.SetCoefficient(Ln[0],0.16)\n",
        "ct4.SetCoefficient(Lf[0],0.14)\n",
        "\n",
        "#0.16LN2 + 0.14LF2 ≤ 400\n",
        "ct5 = solver.Constraint(0,400,'ct5')\n",
        "ct5.SetCoefficient(Ln[1],0.16)\n",
        "ct5.SetCoefficient(Lf[1],0.14)\n",
        "\n",
        "#0.16LN3 + 0.14LF3 ≤ 300\n",
        "ct6 = solver.Constraint(0,300,'ct6')\n",
        "ct6.SetCoefficient(Ln[2],0.16)\n",
        "ct6.SetCoefficient(Lf[2],0.14)\n",
        "\n",
        "\n",
        "#Demanda --------------\n",
        "\n",
        "#JUNHO ---\n",
        "#WN1 + LN1 - EN1 = 4000\n",
        "ct7 = solver.Constraint(4000,4000,'ct7')\n",
        "ct7.SetCoefficient(Wn[0],1)\n",
        "ct7.SetCoefficient(Ln[0],1)\n",
        "ct7.SetCoefficient(En[0],-1)\n",
        "\n",
        "#WF1 + LF1 - EF1 = 1000\n",
        "ct8 = solver.Constraint(1000,1000,'ct8')\n",
        "ct8.SetCoefficient(Wf[0],1)\n",
        "ct8.SetCoefficient(Lf[0],1)\n",
        "ct8.SetCoefficient(Ef[0],-1)\n",
        "\n",
        "#JULHO ---\n",
        "#EN1 + WN2 + LN2 - EN2 = 8000\n",
        "ct9 = solver.Constraint(8000,8000,'ct9')\n",
        "ct9.SetCoefficient(En[0],1)\n",
        "ct9.SetCoefficient(Wn[1],1)\n",
        "ct9.SetCoefficient(Ln[1],1)\n",
        "ct9.SetCoefficient(En[1],-1)\n",
        "\n",
        "#EF1 + WF2 + LF2 - EF2 = 5000\n",
        "ct10 = solver.Constraint(5000,5000,'ct10')\n",
        "ct10.SetCoefficient(Ef[0],1)\n",
        "ct10.SetCoefficient(Wf[1],1)\n",
        "ct10.SetCoefficient(Lf[1],1)\n",
        "ct10.SetCoefficient(Ef[1],-1)\n",
        "\n",
        "#AGOSTO ---\n",
        "#EN2 + WN3 + LN3 = 3000\n",
        "ct11 = solver.Constraint(3000,3000,'ct11')\n",
        "ct11.SetCoefficient(En[1],1)\n",
        "ct11.SetCoefficient(Wn[2],1)\n",
        "ct11.SetCoefficient(Ln[2],1)\n",
        "\n",
        "#EF2 + WF3 + LF3 = 5000\n",
        "ct12 = solver.Constraint(5000,5000,'ct12')\n",
        "ct12.SetCoefficient(Ef[1],1)\n",
        "ct12.SetCoefficient(Wf[2],1)\n",
        "ct12.SetCoefficient(Lf[2],1)"
      ],
      "execution_count": null,
      "outputs": []
    },
    {
      "cell_type": "markdown",
      "metadata": {
        "id": "L6ctlk_MjmAI"
      },
      "source": [
        "### Função Objetivo"
      ]
    },
    {
      "cell_type": "code",
      "metadata": {
        "id": "Jv4wfmH5joD-",
        "colab": {
          "base_uri": "https://localhost:8080/"
        },
        "outputId": "1ea5eb3d-e996-4127-8c46-8c3417f7ba57"
      },
      "source": [
        "objective = solver.Objective()\n",
        "\n",
        "#0.75WNT + 0.8LNT + 0.6WFT + 0.7LFT + 0.1ENT + 0.1EFT\n",
        "\n",
        "for i in range(0,3):\n",
        "  objective.SetCoefficient(Wn[i],0.75)\n",
        "  objective.SetCoefficient(Ln[i],0.8)\n",
        "  objective.SetCoefficient(Wf[i],0.6)\n",
        "  objective.SetCoefficient(Lf[i],0.7)\n",
        "\n",
        "for i in range(0,2):\n",
        "  objective.SetCoefficient(En[i],0.1)\n",
        "  objective.SetCoefficient(Ef[i],0.1)\n",
        "\n",
        "objective.SetMinimization()\n",
        "solver.Solve()\n"
      ],
      "execution_count": null,
      "outputs": [
        {
          "output_type": "execute_result",
          "data": {
            "text/plain": [
              "0"
            ]
          },
          "metadata": {
            "tags": []
          },
          "execution_count": 8
        }
      ]
    },
    {
      "cell_type": "markdown",
      "metadata": {
        "id": "VhVgTzan9s1T"
      },
      "source": [
        "#**Questão 1** \n",
        "## *Qual é a produção mensal que atende a demanda exatamente com menor custo?*\n",
        "\n"
      ]
    },
    {
      "cell_type": "markdown",
      "metadata": {
        "id": "aNWyQH_zl1XP"
      },
      "source": [
        "### Solução"
      ]
    },
    {
      "cell_type": "code",
      "metadata": {
        "id": "g7XnIjQWl3Tm",
        "colab": {
          "base_uri": "https://localhost:8080/"
        },
        "outputId": "67e22d89-fca8-49b8-822c-863d6b3b9da1"
      },
      "source": [
        "for i in range(0,3):\n",
        "  if i == 0: print(\"Mês de Junho\")\n",
        "  elif i == 1: print(\"Mês de Julho\")\n",
        "  else: print(\"Mês de Agosto\")\n",
        "  print(\"n° pneus de NYLON produzidos pela WHEEL\",Wn[i].solution_value())\n",
        "  print(\"n° pneus de FIBRA produzidos pela WHEEL\",Wf[i].solution_value())\n",
        "  print(\"n° pneus de NYLON produzidos pela LEGAL\",Ln[i].solution_value())\n",
        "  print(\"n° pneus de FIBRA produzidos pela LEGAL\",Lf[i].solution_value())\n",
        "  if i<2:\n",
        "    print(\"Estoque de pneus de NYLON\", En[i].solution_value())\n",
        "    print(\"Estoque de pneus de FIBRA\", Ef[i].solution_value())\n",
        "  else: \n",
        "    print(\"Estoque de pneus de NYLON\", 0.0)\n",
        "    print(\"Estoque de pneus de FIBRA\", 0.0)\n",
        "  print('\\n')\n",
        "\n",
        "print(\"Custo total: \", objective.Value())"
      ],
      "execution_count": null,
      "outputs": [
        {
          "output_type": "stream",
          "text": [
            "Mês de Junho\n",
            "n° pneus de NYLON produzidos pela WHEEL 1866.0\n",
            "n° pneus de FIBRA produzidos pela WHEEL 3500.0\n",
            "n° pneus de NYLON produzidos pela LEGAL 7634.0\n",
            "n° pneus de FIBRA produzidos pela LEGAL 0.0\n",
            "Estoque de pneus de NYLON 5500.0\n",
            "Estoque de pneus de FIBRA 2500.0\n",
            "\n",
            "\n",
            "Mês de Julho\n",
            "n° pneus de NYLON produzidos pela WHEEL -0.0\n",
            "n° pneus de FIBRA produzidos pela WHEEL 2500.0\n",
            "n° pneus de NYLON produzidos pela LEGAL 2500.0\n",
            "n° pneus de FIBRA produzidos pela LEGAL 0.0\n",
            "Estoque de pneus de NYLON 0.0\n",
            "Estoque de pneus de FIBRA 0.0\n",
            "\n",
            "\n",
            "Mês de Agosto\n",
            "n° pneus de NYLON produzidos pela WHEEL 2666.0\n",
            "n° pneus de FIBRA produzidos pela WHEEL 5000.0\n",
            "n° pneus de NYLON produzidos pela LEGAL 334.0\n",
            "n° pneus de FIBRA produzidos pela LEGAL 0.0\n",
            "Estoque de pneus de NYLON 0.0\n",
            "Estoque de pneus de FIBRA 0.0\n",
            "\n",
            "\n",
            "Custo total:  38330.1\n"
          ],
          "name": "stdout"
        }
      ]
    },
    {
      "cell_type": "markdown",
      "metadata": {
        "id": "pI7W0cNL9xay"
      },
      "source": [
        "#**Questão 2**\n",
        "## *Qual a receita, o custo e o lucro para o período junho-julho-agosto?*"
      ]
    },
    {
      "cell_type": "markdown",
      "metadata": {
        "id": "4pj4-P579toI"
      },
      "source": [
        "###**Receita:**\n",
        " - Nylon = nº pneus nylon produzidos * preço do nylon = 15000•7 = 105000\n",
        " - Fibra = nº Pneus fibra produzidos * preço do fibra = 11000•9 = 99000\n",
        " - Receita = 105000 + 99000 = **$204000**\n"
      ]
    },
    {
      "cell_type": "markdown",
      "metadata": {
        "id": "1UnsGN-_91RY"
      },
      "source": [
        "###**Custos:**\n",
        " - Matéria prima dos pneus de nylon: 3.10*15000 = 46500\n",
        " - Matéria prima dos pneus de fibra: 3.90*11000 = 42900\n",
        " - Custo de produção: 19173.4\n",
        " - Custos de Acabamento, embalagem e transporte = 0.23*(11000 + 15000) = 5980\n",
        " - Total = 46500 + 42900 + 19173.4 + 5980 = **$114553.40**"
      ]
    },
    {
      "cell_type": "markdown",
      "metadata": {
        "id": "iJs-uZJf94Iz"
      },
      "source": [
        "\n",
        "###**Lucro:**\n",
        " - Lucro = Receita - Custos = 204000 - 114553,4 = **$89446.60**"
      ]
    },
    {
      "cell_type": "markdown",
      "metadata": {
        "id": "h847RqcY9zx8"
      },
      "source": [
        "#**Questão 3**\n",
        "## *Quando seria apropriado fazer a manutenção preventiva das prensas?*\n"
      ]
    },
    {
      "cell_type": "markdown",
      "metadata": {
        "id": "PkFlNGee-vro"
      },
      "source": [
        "O calculo das folgas é feito a partir da quantidade de unidades produzidas por periodo(para que obtenhamos maior lucro). Sabemos o tempo que cada maquina leva em horas para produzir cada tipo de pneu, portanto:"
      ]
    },
    {
      "cell_type": "markdown",
      "metadata": {
        "id": "WvTu6oh7JSli"
      },
      "source": [
        "**Junho:**\n",
        " - **Horas de produção previstas**:(W-700,L-1500)\n",
        " - WHEEL: $1866\\cdot0.15+3500\\cdot0.12 =699.9h$\n",
        " - LEGAL: $7634\\cdot0.16+0\\cdot0.14 =1221.44h$\n",
        "\n",
        "**Julho:**\n",
        " - **Horas de produção previstas**:(W-300,L-400)\n",
        " - WHEEL: $0\\cdot0.15+2500\\cdot0.12 =300h$\n",
        " - LEGAL: $2500\\cdot0.16+0\\cdot0.14 =400h$\n",
        "\n",
        "**Agosto:**\n",
        " - **Horas de produção previstas**:(W-1000,L-300)\n",
        " - WHEEL: $2666\\cdot0.15+5000\\cdot0.12 =999.9h$\n",
        " - LEGAL: $334\\cdot0.16+0\\cdot0.14 =53.44h$"
      ]
    },
    {
      "cell_type": "markdown",
      "metadata": {
        "id": "bPUDd8vRJGS5"
      },
      "source": [
        "**FOLGA DAS MAQUINAS**:\n",
        "\n",
        "**Junho:**\n",
        " - WHEEL: 0 horas\n",
        " - LEGAL: 1500-1221.44 = 279horas\n",
        "\n",
        "**Julho:**\n",
        " - WHEEL:0 horas\n",
        " - LEGAL: 0 horas\n",
        "\n",
        "**Agosto:**\n",
        " - WHEEL: 0 horas\n",
        " - LEGAL: 300-53 = 247 horas"
      ]
    },
    {
      "cell_type": "code",
      "metadata": {
        "colab": {
          "base_uri": "https://localhost:8080/"
        },
        "id": "voltdT1jKCv6",
        "outputId": "4b785e77-e9cb-43ac-b288-5766c0d05ae6"
      },
      "source": [
        "#código para calculo\n",
        "print(\"Folgas de cada máquina:\")\n",
        "print(\"\\n\")\n",
        "\n",
        "print(\"-> Mês de Junho\")\n",
        "print(\"Folga (h) da prensa Wheel:\",round(-0.15*Wn[0].solution_value() - 0.12*Wf[0].solution_value() + 700))\n",
        "print(\"Folga (h) da prensa Legal:\",round(-0.16*Ln[0].solution_value() - 0.14*Lf[0].solution_value() + 1500))\n",
        "print(\"\\n\")\n",
        "\n",
        "print(\"-> Mês de Julho\")\n",
        "print(\"Folga (h) da prensa Wheel:\",round(-0.15*Wn[1].solution_value() - 0.12*Wf[1].solution_value() + 300))\n",
        "print(\"Folga (h) da prensa Legal:\",round(-0.16*Ln[1].solution_value() - 0.14*Lf[1].solution_value() + 400))\n",
        "print(\"\\n\")\n",
        "\n",
        "print(\"-> Mês de Agosto\")\n",
        "print(\"Folga (h) da prensa Wheel:\",round(-0.15*Wn[2].solution_value() - 0.12*Wf[2].solution_value() + 1000))\n",
        "print(\"Folga (h) da prensa Legal:\",round(-0.16*Ln[2].solution_value() - 0.14*Lf[2].solution_value() + 300))\n",
        "print(\"\\n\")"
      ],
      "execution_count": null,
      "outputs": [
        {
          "output_type": "stream",
          "text": [
            "Folgas de cada máquina:\n",
            "\n",
            "\n",
            "-> Mês de Junho\n",
            "Folga (h) da prensa Wheel: 0\n",
            "Folga (h) da prensa Legal: 279\n",
            "\n",
            "\n",
            "-> Mês de Julho\n",
            "Folga (h) da prensa Wheel: 0\n",
            "Folga (h) da prensa Legal: 0\n",
            "\n",
            "\n",
            "-> Mês de Agosto\n",
            "Folga (h) da prensa Wheel: 0\n",
            "Folga (h) da prensa Legal: 247\n",
            "\n",
            "\n"
          ],
          "name": "stdout"
        }
      ]
    },
    {
      "cell_type": "markdown",
      "metadata": {
        "id": "Yl-hbyuXJ0AM"
      },
      "source": [
        "A prensa Legal possuí folgas de 279h e 247h respectivamente nos meses de Junho e Agosto, sendo esses os momentos apropriado para realizar a manutenção na maquina. Porém, a prensa Wheel não possuí nenhuma folga em nenhum desses meses, ou seja, a manutenção impactará na produção."
      ]
    },
    {
      "cell_type": "markdown",
      "metadata": {
        "id": "ZVCDcQmv91OD"
      },
      "source": [
        "#**Questão 4**\n",
        "##*Uma nova prensa do tipo Wheel está para chegar em setembro. Contudo, é possível antecipar sua chegada para 2 de agosto desde que a Peneu pague $200 ao seu fornecedor. O número de horas de produção adicionais ganho com a chegada da nova prensa é 172. A Peneu deve antecipar a chegada da nova prensa?*\n"
      ]
    },
    {
      "cell_type": "markdown",
      "metadata": {
        "id": "hTt9pAW2-8Ah"
      },
      "source": [
        "Executando novamente o solver mudando a restrição $0,15Wn,3+0,12Wf,3 \\leq 1000$ para $0,15Wn,3+0,12Wf,3 \\leq 1172;$ obtemos o seguinte resultado"
      ]
    },
    {
      "cell_type": "markdown",
      "metadata": {
        "id": "7FlNUUj_K8NZ"
      },
      "source": [
        "Mês de Junho\n",
        " - n° pneus de NYLON produzidos pela WHEEL 1866.0\n",
        " - n° pneus de FIBRA produzidos pela WHEEL 3500.0\n",
        " - n° pneus de NYLON produzidos pela LEGAL 7634.0\n",
        " - n° pneus de FIBRA produzidos pela LEGAL 0.0\n",
        " - Estoque de pneus de NYLON 5500.0\n",
        " - Estoque de pneus de FIBRA 2500.0\n",
        "\n",
        "\n",
        "Mês de Julho\n",
        " - n° pneus de NYLON produzidos pela WHEEL -0.0\n",
        " - n° pneus de FIBRA produzidos pela WHEEL 2500.0\n",
        " - n° pneus de NYLON produzidos pela LEGAL 2500.0\n",
        " - n° pneus de FIBRA produzidos pela LEGAL 0.0\n",
        " - Estoque de pneus de NYLON 0.0\n",
        " - Estoque de pneus de FIBRA 0.0\n",
        "\n",
        "\n",
        "Mês de Agosto\n",
        " - n° pneus de NYLON produzidos pela WHEEL 3000.0\n",
        " - n° pneus de FIBRA produzidos pela WHEEL 5000.0\n",
        " - n° pneus de NYLON produzidos pela LEGAL -0.0\n",
        " - n° pneus de FIBRA produzidos pela LEGAL -0.0\n",
        " - Estoque de pneus de NYLON 0.0\n",
        " - Estoque de pneus de FIBRA 0.0\n",
        "\n",
        "\n",
        "Custo total:  19156.7"
      ]
    },
    {
      "cell_type": "markdown",
      "metadata": {
        "id": "UjGtcUlI_Xy5"
      },
      "source": [
        "Agora, vamos calcular a nova receita, custo e o lucro para o período"
      ]
    },
    {
      "cell_type": "markdown",
      "metadata": {
        "id": "2-a4e3fL-NHA"
      },
      "source": [
        "###**Receita:**\n",
        " - Nylon = nº pneus nylon produzidos * preço do nylon = 15000•7 = 105000\n",
        " - Fibra = nº Pneus fibra produzidos * preço do fibra = 11000•9 = 99000\n",
        " - Receita = 105000 + 99000 = **$204000**\n"
      ]
    },
    {
      "cell_type": "markdown",
      "metadata": {
        "id": "ifKtbmzB-NHK"
      },
      "source": [
        "###**Custos:**\n",
        " - Matéria prima dos pneus de nylon: 3.10*15000 = 46500\n",
        " - Matéria prima dos pneus de fibra: 3.90*11000 = 42900\n",
        " - Custo de produção: 19156.4\n",
        " - Custo de adiantamente na prensa Peneu: 200\n",
        " - Custos de Acabamento, embalagem e transporte = 0.23*(11000 + 15000) = 5980\n",
        " - Total = 46500 + 42900 + 19156.4 + 5980 + 200 = **$114736.40**"
      ]
    },
    {
      "cell_type": "markdown",
      "metadata": {
        "id": "M22yhqy3-NHL"
      },
      "source": [
        "\n",
        "###**Lucro:**\n",
        " - Lucro = Receita - Custos = 204000 - 114736.40 = **$89263.60**"
      ]
    },
    {
      "cell_type": "markdown",
      "metadata": {
        "id": "WE4Gc6PIArNy"
      },
      "source": [
        "Ao obter o novo lucro e custo com o adiantamento da nova prensa Wheel e, ao comparar com o valor obtido anteriormente na questão 1, é notável um certo prejuízo devido ao aumento do custo e com o decréscimo do lucro. Portanto, não é recomendado antecipar a chegada da nova prensa."
      ]
    },
    {
      "cell_type": "markdown",
      "metadata": {
        "id": "15TSufy994sa"
      },
      "source": [
        "#**Questão 5**\n",
        "##*Resolver o modelo usando o Excel, Or-Tools, ou o solver de sua preferência*"
      ]
    },
    {
      "cell_type": "markdown",
      "metadata": {
        "id": "aGTN0Y49yO3v"
      },
      "source": [
        "Foi utilizado o solver Or-Tools para a resolução do problema, e sua implementação foi feita ao decorrer do relatório"
      ]
    }
  ]
}