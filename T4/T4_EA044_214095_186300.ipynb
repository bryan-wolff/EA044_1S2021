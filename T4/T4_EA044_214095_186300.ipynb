{
  "nbformat": 4,
  "nbformat_minor": 0,
  "metadata": {
    "colab": {
      "name": "T4_EA044_214095_186300.ipynb",
      "provenance": [],
      "collapsed_sections": []
    },
    "kernelspec": {
      "name": "python3",
      "display_name": "Python 3"
    },
    "language_info": {
      "name": "python"
    }
  },
  "cells": [
    {
      "cell_type": "markdown",
      "metadata": {
        "id": "lFrUXV6UpRSc"
      },
      "source": [
        "# **EA044A – PLANEJAMENTO E ANÁLISE DE SISTEMAS DE PRODUÇÃO**\n",
        "## Projeto T4 - Planejamento de Produção em Sistemas de Manufatura\n",
        "\n",
        "###Bryan Wolff  RA: 214095\n",
        "###Raphael Cury Spiller  RA: 186300\n"
      ]
    },
    {
      "cell_type": "markdown",
      "metadata": {
        "id": "Swt-AYUyqA55"
      },
      "source": [
        "#**Item A**\n",
        "**Formular o modelo de otimização discreto para planejar a produção.**"
      ]
    },
    {
      "cell_type": "markdown",
      "metadata": {
        "id": "TDpSyRVA-Zkl"
      },
      "source": [
        "Seguindo a notação do OR-TOOLS, podemos descrever o problema da seguinte forma:\n",
        "\n",
        "Onde cada task é representada por (M,t) onde M é a máquina pela qual deve passar e t o tempo de processamento naquela máquina. As tasks estão organizadas da seguinte forma:\n",
        "\n",
        "> $job_0 = [(0,10),(1,10),(2,10)]$\n",
        "\n",
        "> $job_1 = [(0,8),(1,5),(2,5)]$\n",
        "\n",
        "> $job_2 = [(0,9),(1,9),(2,5)]$\n",
        "\n",
        "> $job_3 = [(0,6),(1,5),(2,9)]$\n",
        "\n"
      ]
    },
    {
      "cell_type": "code",
      "metadata": {
        "id": "DAlqxU3v8OJb"
      },
      "source": [
        ""
      ],
      "execution_count": null,
      "outputs": []
    },
    {
      "cell_type": "markdown",
      "metadata": {
        "id": "xRjJ_eC8Aupm"
      },
      "source": [
        "Para definir as restrições, vamos utilizar a notação $t_{i,j}$ é o tempo inicial que o job i começa o processamento j.\n",
        "\n",
        "Como na documentação do OR-TOOLS, definimos dois tipos de restrição, a de precedência e as para evitar sobreposição. Inicialmente definidmos as de precedência:\n",
        "\n",
        "O tempo de início do segundo processamento do job 0 deve ser superior ao tempo gasto pela primeiro desse job. Extendendo essa definição para todos os jobs dados:\n",
        "\n",
        ">$t_{0,2} \\geq t_{0,1} + 10  $\n",
        "\n",
        ">$t_{0,3} \\geq t_{0,2} + 10  $\n",
        "\n",
        ">$t_{1,2} \\geq t_{1,1} + 8  $\n",
        "\n",
        ">$t_{1,3} \\geq t_{1,2} + 5  $\n",
        "\n",
        ">$t_{2,2} \\geq t_{2,1} + 9  $\n",
        "\n",
        ">$t_{2,3} \\geq t_{2,2} + 9  $\n",
        "\n",
        ">$t_{3,2} \\geq t_{3,1} + 6  $\n",
        "\n",
        ">$t_{3,3} \\geq t_{3,2} + 5  $\n",
        "\n",
        "\n",
        "Essas restrições não impedem que uma maquina tenham dois processamentos de jobs diferentes ocorrendo ao mesmo tempo(o que na prática é inviável), por isso é necessário implementar um segundo nível de restrições. Ou seja, sabendo que há 3 processamentos por job e que cada um ocorre em uma máquina diferente, o tempo que um processamento j de um job i começa em uma máquina deve ser maior que o tempo em que o mesmo processamento ocorre no job anterior. \n",
        "\n",
        "$M_0$\n",
        ">$t_{0,1} + 10 <= t_{1,1}$\n",
        "\n",
        ">$t_{1,1} + 8 <= t_{2,1}$\n",
        "\n",
        ">$t_{2,1} + 9 <= t_{3,1}$\n",
        "\n",
        "$M_1$\n",
        ">$t_{0,2} + 10 <= t_{1,2}$\n",
        "\n",
        ">$t_{1,2} + 5 <= t_{2,2}$\n",
        "\n",
        ">$t_{2,2} + 9 <= t_{3,2}$\n",
        "\n",
        "$M_2$\n",
        ">$t_{0,3} + 10 <= t_{1,3}$\n",
        "\n",
        ">$t_{1,3} + 5 <= t_{2,3}$\n",
        "\n",
        ">$t_{2,3} + 5 <= t_{3,3}$\n",
        "\n",
        "Com isto temos todas as restrições definidas para o problema. Agora temos que montar o solver com o OR-TOOLS.\n"
      ]
    },
    {
      "cell_type": "markdown",
      "metadata": {
        "id": "S83j3t6HqGBZ"
      },
      "source": [
        "#**Item B**\n",
        "\n",
        "**Implementando o modelo usando o OR-Tools para Mixed-Integer Programming (MIP) em Python**\n",
        "\n"
      ]
    },
    {
      "cell_type": "markdown",
      "metadata": {
        "id": "yunyAgq8YWXF"
      },
      "source": [
        "####**Dependências**"
      ]
    },
    {
      "cell_type": "code",
      "metadata": {
        "id": "govdmFaBJrEP",
        "colab": {
          "base_uri": "https://localhost:8080/"
        },
        "outputId": "8d7a242b-3626-42aa-aba4-dcffa73d384f"
      },
      "source": [
        "!pip install --user --upgrade pip setuptools wheel six ortools"
      ],
      "execution_count": null,
      "outputs": [
        {
          "output_type": "stream",
          "text": [
            "WARNING: pip is being invoked by an old script wrapper. This will fail in a future version of pip.\n",
            "Please see https://github.com/pypa/pip/issues/5599 for advice on fixing the underlying issue.\n",
            "To avoid this problem you can invoke Python with '-m pip' instead of running pip directly.\n",
            "Requirement already satisfied: pip in /root/.local/lib/python3.7/site-packages (21.1.3)\n",
            "Requirement already satisfied: setuptools in /usr/local/lib/python3.7/dist-packages (57.0.0)\n",
            "Requirement already satisfied: wheel in /usr/local/lib/python3.7/dist-packages (0.36.2)\n",
            "Requirement already satisfied: six in /root/.local/lib/python3.7/site-packages (1.16.0)\n",
            "Requirement already satisfied: ortools in /root/.local/lib/python3.7/site-packages (9.0.9048)\n",
            "Requirement already satisfied: absl-py>=0.11 in /usr/local/lib/python3.7/dist-packages (from ortools) (0.12.0)\n",
            "Requirement already satisfied: protobuf>=3.15.8 in /root/.local/lib/python3.7/site-packages (from ortools) (3.17.3)\n",
            "\u001b[33mWARNING: Running pip as the 'root' user can result in broken permissions and conflicting behaviour with the system package manager. It is recommended to use a virtual environment instead: https://pip.pypa.io/warnings/venv\u001b[0m\n"
          ],
          "name": "stdout"
        }
      ]
    },
    {
      "cell_type": "code",
      "metadata": {
        "id": "iHmv-Z2joWeB"
      },
      "source": [
        "import collections\n",
        "from ortools.sat.python import cp_model"
      ],
      "execution_count": null,
      "outputs": []
    },
    {
      "cell_type": "markdown",
      "metadata": {
        "id": "AE4n_60ctwNg"
      },
      "source": [
        "####**Implementando o modelo**"
      ]
    },
    {
      "cell_type": "code",
      "metadata": {
        "id": "8KDhrSaxtzPH"
      },
      "source": [
        "def MinimalJobshopSat():\n",
        "    model = cp_model.CpModel() #define o modelo\n",
        "\n",
        "    jobsData = [ #task = (máquina, tempoGasto)\n",
        "                 [(1,10),(2,10),(0,10)],  #Job0\n",
        "                 [(1,5),(0,8),(2,5)],     #Job1\n",
        "                 [(2,5),(1,9),(0,9)],      #Job2\n",
        "                 [(0,6),(2,9),(1,5)],     #Job4\n",
        "    ]\n",
        "\n",
        "    # Máquinas\n",
        "    machineCount = 1 + max(task[0] for job in jobsData for task in job)\n",
        "    allMachines = range(machineCount)\n",
        "\n",
        "    # Soma de todas os tempos de forma dinâmica\n",
        "    horizon = sum(task[1] for job in jobsData for task in job)\n",
        "\n",
        "    # Nomeia a tupla que irá guardar as informações da nova variável\n",
        "    task_type = collections.namedtuple('task_type', 'start end interval')\n",
        "    \n",
        "    # Tupla da solução\n",
        "    assigned_task_type = collections.namedtuple('assigned_task_type',\n",
        "                                                'start job index duration')\n",
        "\n",
        "    allTasks = {}\n",
        "    machineToIntervals = collections.defaultdict(list)\n",
        "    for job_id, job in enumerate(jobsData):\n",
        "        for task_id, task in enumerate(job):\n",
        "            machine = task[0]\n",
        "            duration = task[1]\n",
        "            suffix = '_%i_%i' % (job_id, task_id)\n",
        "            start_var = model.NewIntVar(0, horizon, 'start' + suffix)\n",
        "            end_var = model.NewIntVar(0, horizon, 'end' + suffix)\n",
        "            interval_var = model.NewIntervalVar(start_var, duration, end_var,\n",
        "                                                'interval' + suffix)\n",
        "            allTasks[job_id, task_id] = task_type(\n",
        "                start=start_var, end=end_var, interval=interval_var)\n",
        "            machineToIntervals[machine].append(interval_var)\n",
        "\n",
        "    # Restrição para evitar Overlap (sobreposição das máquinas)\n",
        "    for machine in allMachines:\n",
        "        model.AddNoOverlap(machineToIntervals[machine])\n",
        "\n",
        "    # Restrição de precedência\n",
        "    for job_id, job in enumerate(jobsData):\n",
        "        for task_id in range(len(job) - 1):\n",
        "            model.Add(allTasks[job_id, task_id +\n",
        "                                1].start >= allTasks[job_id, task_id].end)\n",
        "\n",
        "    # Objetivo\n",
        "    obj_var = model.NewIntVar(0, horizon, 'makespan')\n",
        "    model.AddMaxEquality(obj_var, [\n",
        "        allTasks[job_id, len(job) - 1].end\n",
        "        for job_id, job in enumerate(jobsData)\n",
        "    ])\n",
        "    model.Minimize(obj_var)\n",
        "\n",
        "   # Resolve o modelo\n",
        "    solver = cp_model.CpSolver()\n",
        "    status = solver.Solve(model)\n",
        "\n",
        "    if status == cp_model.OPTIMAL:\n",
        "        assigned_jobs = collections.defaultdict(list)\n",
        "        for job_id, job in enumerate(jobsData):\n",
        "            for task_id, task in enumerate(job):\n",
        "                machine = task[0]\n",
        "                assigned_jobs[machine].append(\n",
        "                    assigned_task_type(\n",
        "                        start=solver.Value(allTasks[job_id, task_id].start),\n",
        "                        job=job_id,\n",
        "                        index=task_id,\n",
        "                        duration=task[1]))\n",
        "\n",
        "        # print da solução ótima em forma de tabela\n",
        "        output = ''\n",
        "        for machine in allMachines:\n",
        "            assigned_jobs[machine].sort()\n",
        "            sol_line_tasks = '\\nMáquina ' + str(machine) + ': '\n",
        "            sol_line = '           '\n",
        "\n",
        "            for assigned_task in assigned_jobs[machine]:\n",
        "                name = 'job_%i_%i' % (assigned_task.job, assigned_task.index)\n",
        "                sol_line_tasks += '%-10s' % name\n",
        "\n",
        "                start = assigned_task.start\n",
        "                duration = assigned_task.duration\n",
        "                sol_tmp = '[%i,%i]' % (start, start + duration)\n",
        "                sol_line += '%-10s' % sol_tmp\n",
        "\n",
        "            sol_line += '\\n'\n",
        "            sol_line_tasks += '\\n'\n",
        "            output += sol_line_tasks\n",
        "            output += sol_line\n",
        "\n",
        "        print('Tempo ótimo: %i' % solver.ObjectiveValue())\n",
        "        print(output)\n"
      ],
      "execution_count": null,
      "outputs": []
    },
    {
      "cell_type": "markdown",
      "metadata": {
        "id": "tgsCsAn3qHxB"
      },
      "source": [
        "#**Item C**\n",
        "\n",
        "**Resolver o modelo e gerar o plano de produção usando o CBC pois este solver já é parte do MIP do OR-Tools.**\n"
      ]
    },
    {
      "cell_type": "markdown",
      "metadata": {
        "id": "jDXRhbdK1LYv"
      },
      "source": [
        "####**Apresentando os resultados na forma de uma tabela**"
      ]
    },
    {
      "cell_type": "markdown",
      "metadata": {
        "id": "Xc_vNCaKq3gI"
      },
      "source": [
        "A função *MinimalJobshopSat* implementada no item anterior retorna a seguinte \n",
        "\n",
        "tabela abaixo com as tarefas para cada máquina, e seus respectivos [tempo de ínicio, tempo de fim]"
      ]
    },
    {
      "cell_type": "code",
      "metadata": {
        "colab": {
          "base_uri": "https://localhost:8080/"
        },
        "id": "yk5QKw1MyOSQ",
        "outputId": "b9f9b7f5-b850-47ee-bd44-1b173a95141b"
      },
      "source": [
        "MinimalJobshopSat()"
      ],
      "execution_count": null,
      "outputs": [
        {
          "output_type": "stream",
          "text": [
            "Tempo ótimo: 42\n",
            "\n",
            "Máquina 0: job_3_0   job_1_1   job_0_2   job_2_2   \n",
            "           [0,6]     [15,23]   [23,33]   [33,42]   \n",
            "\n",
            "Máquina 1: job_0_0   job_1_0   job_2_1   job_3_2   \n",
            "           [0,10]    [10,15]   [15,24]   [29,34]   \n",
            "\n",
            "Máquina 2: job_2_0   job_0_1   job_3_1   job_1_2   \n",
            "           [0,5]     [10,20]   [20,29]   [29,34]   \n",
            "\n"
          ],
          "name": "stdout"
        }
      ]
    },
    {
      "cell_type": "markdown",
      "metadata": {
        "id": "1op5VPji1Svn"
      },
      "source": [
        "####**Apresentando os resultados em Diagrama de Gantt**"
      ]
    },
    {
      "cell_type": "markdown",
      "metadata": {
        "id": "c-DbmpRNpdeJ"
      },
      "source": [
        "A partir da biblioteca *matplotlib*, foi gerado o diagrama de Gantt corresponde\n",
        "\n",
        "à solução otima, onde o eixo y representa as máquinas (0,1,2) e o eixo x \n",
        "\n",
        "representa o tempo gasto na máquina."
      ]
    },
    {
      "cell_type": "code",
      "metadata": {
        "colab": {
          "base_uri": "https://localhost:8080/",
          "height": 312
        },
        "id": "gK3l_3RGvSIW",
        "outputId": "6fe45cdd-de7d-4531-9a12-e27e42d870f2"
      },
      "source": [
        "import matplotlib.pyplot as plt \n",
        "\n",
        "fig, gnt = plt.subplots() \n",
        "gnt.grid(True) \n",
        "gnt.set_title('Diagrama de Gantt da solução ótima')\n",
        "\n",
        "# Tamanho dos eixos\n",
        "gnt.set_ylim(0, 50) \n",
        "gnt.set_xlim(0, 45) \n",
        "\n",
        "# Nomes dos eixos\n",
        "gnt.set_xlabel('Tempo decorrido') \n",
        "gnt.set_ylabel('Máquina') \n",
        "\n",
        "# Espaçamento e Marcações do eixo y \n",
        "gnt.set_yticks([15, 25, 35]) \n",
        "gnt.set_yticklabels(['0', '1', '2']) \n",
        "\n",
        "# Dados ----------\n",
        "\n",
        "# Job 0 na máquina 0\n",
        "gnt.broken_barh([(23, 10)], (10, 9), facecolors = ('#000fb3'),label = 'Job 0') \n",
        "# Job 1 na máquina 0\n",
        "gnt.broken_barh([(15, 8)], (10, 9), facecolors =('#919191'),label = 'Job 1') \n",
        "# Job 2 na máquina 0\n",
        "gnt.broken_barh([(33, 9)], (10, 9), facecolors =('#ff0000'),label = 'Job 2') \n",
        "# Job 3 na máquina 0\n",
        "gnt.broken_barh([(0, 6)], (10, 9), facecolors =('#00ff00'),label = 'Job 3') \n",
        "\n",
        "# Job 0 na máquina 1\n",
        "gnt.broken_barh([(0, 10)], (20, 9), facecolors =('#000fb3')) \n",
        "# Job 1 na máquina 1\n",
        "gnt.broken_barh([(10, 5)], (20, 9), facecolors =('#919191')) \n",
        "# Job 2 na máquina 1\n",
        "gnt.broken_barh([(15, 9)], (20, 9), facecolors =('#ff0000')) \n",
        "# Job 3 na máquina 1\n",
        "gnt.broken_barh([(29, 5)], (20, 9), facecolors =('#00ff00')) \n",
        "\n",
        "# Job 0 na máquina 2\n",
        "gnt.broken_barh([(10, 20)], (30, 9), facecolors =('#000fb3')) \n",
        "# Job 1 na máquina 2\n",
        "gnt.broken_barh([(29, 5)], (30, 9), facecolors =('#919191')) \n",
        "# Job 2 na máquina 2\n",
        "gnt.broken_barh([(0, 5)], (30, 9), facecolors =('#ff0000')) \n",
        "# Job 3 na máquina 2\n",
        "gnt.broken_barh([(20, 9)], (30, 9), facecolors =('#00ff00')) \n",
        "plt.legend()\n"
      ],
      "execution_count": null,
      "outputs": [
        {
          "output_type": "execute_result",
          "data": {
            "text/plain": [
              "<matplotlib.legend.Legend at 0x7f5931c49750>"
            ]
          },
          "metadata": {
            "tags": []
          },
          "execution_count": 42
        },
        {
          "output_type": "display_data",
          "data": {
            "image/png": "[encoded data removed]",
            "text/plain": [
              "<Figure size 432x288 with 1 Axes>"
            ]
          },
          "metadata": {
            "tags": [],
            "needs_background": "light"
          }
        }
      ]
    }
  ]
}